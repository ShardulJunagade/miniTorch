{
 "cells": [
  {
   "cell_type": "code",
   "execution_count": 1,
   "id": "44b0548d",
   "metadata": {},
   "outputs": [],
   "source": [
    "from engine import Tensor"
   ]
  },
  {
   "cell_type": "code",
   "execution_count": 2,
   "id": "bea88f12",
   "metadata": {},
   "outputs": [
    {
     "name": "stdout",
     "output_type": "stream",
     "text": [
      "Tensor(data=[[11 22 33]\n",
      " [44 55 66]], grad=[[1 1 1]\n",
      " [1 1 1]])\n",
      "Tensor(data=[[1 2 3]\n",
      " [4 5 6]], grad=[[1 1 1]\n",
      " [1 1 1]])\n",
      "Tensor(data=[[10 20 30]\n",
      " [40 50 60]], grad=[[1 1 1]\n",
      " [1 1 1]])\n",
      "Tensor(data=[[ 10  40  90]\n",
      " [160 250 360]], grad=[[1 1 1]\n",
      " [1 1 1]])\n",
      "Tensor(data=[[1 2 3]\n",
      " [4 5 6]], grad=[[10 20 30]\n",
      " [40 50 60]])\n",
      "Tensor(data=[[10 20 30]\n",
      " [40 50 60]], grad=[[1 2 3]\n",
      " [4 5 6]])\n"
     ]
    }
   ],
   "source": [
    "a=Tensor([[1, 2, 3], [4, 5, 6]])\n",
    "b=Tensor([[10, 20, 30], [40, 50, 60]])\n",
    "c=a+b\n",
    "c.backward()\n",
    "print(c)\n",
    "print(a)\n",
    "print(b)\n",
    "c.zero_grad()\n",
    "d=a*b\n",
    "d.backward()\n",
    "print(d)\n",
    "print(a)\n",
    "print(b)"
   ]
  },
  {
   "cell_type": "code",
   "execution_count": 3,
   "id": "d666ee70",
   "metadata": {},
   "outputs": [
    {
     "name": "stdout",
     "output_type": "stream",
     "text": [
      "Tensor(data=[[2 3 4]\n",
      " [5 6 7]], grad=[[1 1 1]\n",
      " [1 1 1]])\n",
      "Tensor(data=[[1 2 3]\n",
      " [4 5 6]], grad=[[1 1 1]\n",
      " [1 1 1]])\n",
      "Tensor(data=1, grad=6)\n",
      "Tensor(data=[[1 2 3]\n",
      " [4 5 6]], grad=[[1 1 1]\n",
      " [1 1 1]])\n",
      "Tensor(data=[[1 2 3]\n",
      " [4 5 6]], grad=[[1 1 1]\n",
      " [1 1 1]])\n",
      "Tensor(data=1, grad=21)\n"
     ]
    }
   ],
   "source": [
    "a=Tensor([[1, 2, 3], [4, 5, 6]])\n",
    "b=Tensor(1)\n",
    "c=a+b\n",
    "c.backward()\n",
    "print(c)\n",
    "print(a)\n",
    "print(b)\n",
    "c.zero_grad()\n",
    "d=a*b\n",
    "d.backward()\n",
    "print(d)\n",
    "print(a)\n",
    "print(b)"
   ]
  },
  {
   "cell_type": "code",
   "execution_count": 4,
   "id": "e19dd101",
   "metadata": {},
   "outputs": [
    {
     "name": "stdout",
     "output_type": "stream",
     "text": [
      "Tensor(data=[2 3 4 5], grad=[1 1 1 1])\n",
      "Tensor(data=[1 2 3 4], grad=[1 1 1 1])\n",
      "1\n",
      "Tensor(data=[1 2 3 4], grad=[1 1 1 1])\n",
      "Tensor(data=[1 2 3 4], grad=[1 1 1 1])\n",
      "1\n"
     ]
    }
   ],
   "source": [
    "a=Tensor([1, 2, 3,4])\n",
    "b=1\n",
    "c=b+a\n",
    "c.backward()\n",
    "print(c)\n",
    "print(a)\n",
    "print(b)\n",
    "c.zero_grad()\n",
    "d=a*b\n",
    "d.backward()\n",
    "print(d)\n",
    "print(a)\n",
    "print(b)"
   ]
  },
  {
   "cell_type": "code",
   "execution_count": 5,
   "id": "e6554406",
   "metadata": {},
   "outputs": [
    {
     "name": "stdout",
     "output_type": "stream",
     "text": [
      "Tensor(data=[[2 4 6]\n",
      " [5 7 9]], grad=[[1 1 1]\n",
      " [1 1 1]])\n",
      "Tensor(data=[[1 2 3]], grad=[[2 2 2]])\n",
      "[[1, 2, 3], [4, 5, 6]]\n",
      "Tensor(data=[[ 1  4  9]\n",
      " [ 4 10 18]], grad=[[1 1 1]\n",
      " [1 1 1]])\n",
      "Tensor(data=[[1 2 3]], grad=[[5 7 9]])\n",
      "[[1, 2, 3], [4, 5, 6]]\n"
     ]
    }
   ],
   "source": [
    "a=Tensor([[1, 2, 3]])\n",
    "b=[[1,2,3],[4,5,6]]\n",
    "c=a+b\n",
    "c.backward()\n",
    "print(c)\n",
    "print(a)\n",
    "print(b)\n",
    "c.zero_grad()\n",
    "d=a*b\n",
    "d.backward()\n",
    "print(d)\n",
    "print(a)\n",
    "print(b)"
   ]
  }
 ],
 "metadata": {
  "kernelspec": {
   "display_name": "Python 3",
   "language": "python",
   "name": "python3"
  },
  "language_info": {
   "codemirror_mode": {
    "name": "ipython",
    "version": 3
   },
   "file_extension": ".py",
   "mimetype": "text/x-python",
   "name": "python",
   "nbconvert_exporter": "python",
   "pygments_lexer": "ipython3",
   "version": "3.10.10"
  }
 },
 "nbformat": 4,
 "nbformat_minor": 5
}
