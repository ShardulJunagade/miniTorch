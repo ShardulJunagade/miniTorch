{
 "cells": [
  {
   "cell_type": "code",
   "execution_count": 1,
   "id": "44b0548d",
   "metadata": {},
   "outputs": [],
   "source": [
    "from engine import Tensor"
   ]
  },
  {
   "cell_type": "code",
   "execution_count": 2,
   "id": "874b1636",
   "metadata": {},
   "outputs": [
    {
     "name": "stdout",
     "output_type": "stream",
     "text": [
      "Tensor(data=[ 6  7  8  9 10], grad=[0 0 0 0 0])\n"
     ]
    }
   ],
   "source": [
    "a=Tensor([1, 2, 3, 4, 5])\n",
    "b=5\n",
    "c=a+b\n",
    "print(c)"
   ]
  },
  {
   "cell_type": "code",
   "execution_count": 4,
   "id": "0b222e4b",
   "metadata": {},
   "outputs": [
    {
     "name": "stdout",
     "output_type": "stream",
     "text": [
      "Tensor(data=[[2 3 4]\n",
      " [5 6 7]], grad=[[0 0 0]\n",
      " [0 0 0]])\n"
     ]
    }
   ],
   "source": [
    "a=Tensor([[1, 2, 3], [4, 5, 6]])\n",
    "b=1\n",
    "c=b+a\n",
    "print(c)"
   ]
  },
  {
   "cell_type": "code",
   "execution_count": 5,
   "id": "bea88f12",
   "metadata": {},
   "outputs": [
    {
     "name": "stdout",
     "output_type": "stream",
     "text": [
      "Tensor(data=[[11 22 33]\n",
      " [44 55 66]], grad=[[0 0 0]\n",
      " [0 0 0]])\n"
     ]
    }
   ],
   "source": [
    "a=Tensor([[1, 2, 3], [4, 5, 6]])\n",
    "b=Tensor([[10, 20, 30], [40, 50, 60]])\n",
    "c=a+b\n",
    "print(c)"
   ]
  },
  {
   "cell_type": "code",
   "execution_count": 6,
   "id": "e19dd101",
   "metadata": {},
   "outputs": [
    {
     "ename": "ValueError",
     "evalue": "Tensor shapes (4,) and (3,) are not compatible for addition.",
     "output_type": "error",
     "traceback": [
      "\u001b[0;31m---------------------------------------------------------------------------\u001b[0m",
      "\u001b[0;31mValueError\u001b[0m                                Traceback (most recent call last)",
      "File \u001b[0;32m~/Desktop/mini-torch/engine.py:17\u001b[0m, in \u001b[0;36mTensor.__add__\u001b[0;34m(self, other)\u001b[0m\n\u001b[1;32m     16\u001b[0m \u001b[38;5;28;01mtry\u001b[39;00m:\n\u001b[0;32m---> 17\u001b[0m     out \u001b[38;5;241m=\u001b[39m Tensor(\u001b[38;5;28;43mself\u001b[39;49m\u001b[38;5;241;43m.\u001b[39;49m\u001b[43mdata\u001b[49m\u001b[43m \u001b[49m\u001b[38;5;241;43m+\u001b[39;49m\u001b[43m \u001b[49m\u001b[43mother\u001b[49m\u001b[38;5;241;43m.\u001b[39;49m\u001b[43mdata\u001b[49m, children\u001b[38;5;241m=\u001b[39m(\u001b[38;5;28mself\u001b[39m, other))\n\u001b[1;32m     18\u001b[0m \u001b[38;5;28;01mexcept\u001b[39;00m \u001b[38;5;167;01mValueError\u001b[39;00m \u001b[38;5;28;01mas\u001b[39;00m e:\n",
      "\u001b[0;31mValueError\u001b[0m: operands could not be broadcast together with shapes (4,) (3,) ",
      "\nThe above exception was the direct cause of the following exception:\n",
      "\u001b[0;31mValueError\u001b[0m                                Traceback (most recent call last)",
      "Cell \u001b[0;32mIn[6], line 3\u001b[0m\n\u001b[1;32m      1\u001b[0m a\u001b[38;5;241m=\u001b[39mTensor([\u001b[38;5;241m1\u001b[39m, \u001b[38;5;241m2\u001b[39m, \u001b[38;5;241m3\u001b[39m,\u001b[38;5;241m5\u001b[39m])\n\u001b[1;32m      2\u001b[0m b\u001b[38;5;241m=\u001b[39mTensor([\u001b[38;5;241m10\u001b[39m, \u001b[38;5;241m20\u001b[39m, \u001b[38;5;241m30\u001b[39m])\n\u001b[0;32m----> 3\u001b[0m c\u001b[38;5;241m=\u001b[39m\u001b[43ma\u001b[49m\u001b[38;5;241;43m+\u001b[39;49m\u001b[43mb\u001b[49m\n",
      "File \u001b[0;32m~/Desktop/mini-torch/engine.py:19\u001b[0m, in \u001b[0;36mTensor.__add__\u001b[0;34m(self, other)\u001b[0m\n\u001b[1;32m     17\u001b[0m     out \u001b[38;5;241m=\u001b[39m Tensor(\u001b[38;5;28mself\u001b[39m\u001b[38;5;241m.\u001b[39mdata \u001b[38;5;241m+\u001b[39m other\u001b[38;5;241m.\u001b[39mdata, children\u001b[38;5;241m=\u001b[39m(\u001b[38;5;28mself\u001b[39m, other))\n\u001b[1;32m     18\u001b[0m \u001b[38;5;28;01mexcept\u001b[39;00m \u001b[38;5;167;01mValueError\u001b[39;00m \u001b[38;5;28;01mas\u001b[39;00m e:\n\u001b[0;32m---> 19\u001b[0m     \u001b[38;5;28;01mraise\u001b[39;00m \u001b[38;5;167;01mValueError\u001b[39;00m(\u001b[38;5;124mf\u001b[39m\u001b[38;5;124m\"\u001b[39m\u001b[38;5;124mTensor shapes \u001b[39m\u001b[38;5;132;01m{\u001b[39;00m\u001b[38;5;28mself\u001b[39m\u001b[38;5;241m.\u001b[39mdata\u001b[38;5;241m.\u001b[39mshape\u001b[38;5;132;01m}\u001b[39;00m\u001b[38;5;124m and \u001b[39m\u001b[38;5;132;01m{\u001b[39;00mother\u001b[38;5;241m.\u001b[39mdata\u001b[38;5;241m.\u001b[39mshape\u001b[38;5;132;01m}\u001b[39;00m\u001b[38;5;124m are not compatible for addition.\u001b[39m\u001b[38;5;124m\"\u001b[39m) \u001b[38;5;28;01mfrom\u001b[39;00m \u001b[38;5;21;01me\u001b[39;00m\n\u001b[1;32m     21\u001b[0m \u001b[38;5;28;01mdef\u001b[39;00m \u001b[38;5;21m_backward\u001b[39m():\n\u001b[1;32m     22\u001b[0m     \u001b[38;5;28mself\u001b[39m\u001b[38;5;241m.\u001b[39mgrad \u001b[38;5;241m+\u001b[39m\u001b[38;5;241m=\u001b[39m out\u001b[38;5;241m.\u001b[39mgrad\n",
      "\u001b[0;31mValueError\u001b[0m: Tensor shapes (4,) and (3,) are not compatible for addition."
     ]
    }
   ],
   "source": [
    "a=Tensor([1, 2, 3,5])\n",
    "b=Tensor([10, 20, 30])\n",
    "c=a+b"
   ]
  }
 ],
 "metadata": {
  "kernelspec": {
   "display_name": "Python 3",
   "language": "python",
   "name": "python3"
  },
  "language_info": {
   "codemirror_mode": {
    "name": "ipython",
    "version": 3
   },
   "file_extension": ".py",
   "mimetype": "text/x-python",
   "name": "python",
   "nbconvert_exporter": "python",
   "pygments_lexer": "ipython3",
   "version": "3.10.10"
  }
 },
 "nbformat": 4,
 "nbformat_minor": 5
}
