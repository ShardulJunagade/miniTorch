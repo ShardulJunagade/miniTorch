{
 "cells": [
  {
   "cell_type": "code",
   "execution_count": null,
   "id": "919d72ff",
   "metadata": {},
   "outputs": [],
   "source": [
    "import minitorch\n",
    "from minitorch import Tensor\n",
    "# from minitorch.nn.parameter import Parameter\n",
    "# from minitorch.optim import SGD, Adam\n",
    "\n",
    "w = minitorch.nn.parameter.Parameter(Tensor([0.0]))\n",
    "b = minitorch.nn.parameter.Parameter(Tensor([0.0]))\n",
    "\n",
    "def predict(x):\n",
    "    return w.data * x + b.data\n",
    "\n",
    "def compute_loss(y_pred, y_true):\n",
    "    return (y_pred - y_true) ** 2\n",
    "\n",
    "optimizer = minitorch.optim.SGD([w, b], lr=0.01)"
   ]
  },
  {
   "cell_type": "code",
   "execution_count": 3,
   "id": "4d46e213",
   "metadata": {},
   "outputs": [
    {
     "name": "stdout",
     "output_type": "stream",
     "text": [
      "All minitorch imports and submodules work!\n"
     ]
    }
   ],
   "source": [
    "# Test minitorch imports and submodules\n",
    "import minitorch\n",
    "from minitorch import nn, optim, utils, Tensor\n",
    "\n",
    "# Test nn submodule\n",
    "p = nn.Parameter(Tensor([1.0]))\n",
    "assert isinstance(p, nn.Parameter)\n",
    "\n",
    "# Test nn.modules\n",
    "from minitorch.nn import Module\n",
    "class Dummy(Module):\n",
    "    def forward(self, x):\n",
    "        return x\n",
    "m = Dummy()\n",
    "assert isinstance(m, Module)\n",
    "\n",
    "# Test optim submodule\n",
    "opt = optim.SGD([p], lr=0.1)\n",
    "assert isinstance(opt, optim.SGD)\n",
    "\n",
    "# Test utils submodule\n",
    "from minitorch.utils.data import DataLoader, Dataset\n",
    "class DummyDataset(Dataset):\n",
    "    def __init__(self):\n",
    "        super().__init__([42])\n",
    "\n",
    "ds = DummyDataset()\n",
    "dl = DataLoader(ds)\n",
    "assert isinstance(dl, DataLoader)\n",
    "\n",
    "print(\"All minitorch imports and submodules work!\")"
   ]
  }
 ],
 "metadata": {
  "kernelspec": {
   "display_name": ".venv",
   "language": "python",
   "name": "python3"
  },
  "language_info": {
   "codemirror_mode": {
    "name": "ipython",
    "version": 3
   },
   "file_extension": ".py",
   "mimetype": "text/x-python",
   "name": "python",
   "nbconvert_exporter": "python",
   "pygments_lexer": "ipython3",
   "version": "3.10.16"
  }
 },
 "nbformat": 4,
 "nbformat_minor": 5
}
