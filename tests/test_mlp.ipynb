{
 "cells": [
  {
   "cell_type": "code",
   "execution_count": 1,
   "id": "5e934afd",
   "metadata": {},
   "outputs": [],
   "source": [
    "import sys\n",
    "sys.path.append('../')"
   ]
  },
  {
   "cell_type": "code",
   "execution_count": 2,
   "id": "9fa57412",
   "metadata": {},
   "outputs": [
    {
     "name": "stdout",
     "output_type": "stream",
     "text": [
      "MiniTorchModel(\n",
      "  (layer1): Linear(in_features=2, out_features=3, bias=True),\n",
      "  (layer2): Linear(in_features=3, out_features=1, bias=True),\n",
      ")\n",
      "--------------------------------------------------\n"
     ]
    },
    {
     "ename": "ValueError",
     "evalue": "matmul: Input operand 1 has a mismatch in its core dimension 0, with gufunc signature (n?,k),(k,m?)->(n?,m?) (size 3 is different from 2)",
     "output_type": "error",
     "traceback": [
      "\u001b[1;31m---------------------------------------------------------------------------\u001b[0m",
      "\u001b[1;31mValueError\u001b[0m                                Traceback (most recent call last)",
      "Cell \u001b[1;32mIn[2], line 23\u001b[0m\n\u001b[0;32m     18\u001b[0m \u001b[38;5;28mprint\u001b[39m(\u001b[38;5;124m'\u001b[39m\u001b[38;5;124m-\u001b[39m\u001b[38;5;124m'\u001b[39m\u001b[38;5;241m*\u001b[39m\u001b[38;5;241m50\u001b[39m)\n\u001b[0;32m     21\u001b[0m input_tensor \u001b[38;5;241m=\u001b[39m minitorch\u001b[38;5;241m.\u001b[39mTensor([[\u001b[38;5;241m1.0\u001b[39m, \u001b[38;5;241m1.0\u001b[39m]])\n\u001b[1;32m---> 23\u001b[0m out_minitorch \u001b[38;5;241m=\u001b[39m \u001b[43mminitorch_model\u001b[49m\u001b[43m(\u001b[49m\u001b[43minput_tensor\u001b[49m\u001b[43m)\u001b[49m\n\u001b[0;32m     25\u001b[0m \u001b[38;5;28mprint\u001b[39m(\u001b[38;5;124m\"\u001b[39m\u001b[38;5;124mMiniTorch Model Output:\u001b[39m\u001b[38;5;124m\"\u001b[39m)\n\u001b[0;32m     26\u001b[0m \u001b[38;5;28mprint\u001b[39m(out_minitorch)\n",
      "File \u001b[1;32mc:\\Users\\shard\\Desktop\\mini-torch\\tests\\..\\minitorch\\nn\\modules\\module.py:37\u001b[0m, in \u001b[0;36mModule.__call__\u001b[1;34m(self, *args, **kwargs)\u001b[0m\n\u001b[0;32m     36\u001b[0m \u001b[38;5;28;01mdef\u001b[39;00m\u001b[38;5;250m \u001b[39m\u001b[38;5;21m__call__\u001b[39m(\u001b[38;5;28mself\u001b[39m, \u001b[38;5;241m*\u001b[39margs, \u001b[38;5;241m*\u001b[39m\u001b[38;5;241m*\u001b[39mkwargs):\n\u001b[1;32m---> 37\u001b[0m     \u001b[38;5;28;01mreturn\u001b[39;00m \u001b[38;5;28mself\u001b[39m\u001b[38;5;241m.\u001b[39mforward(\u001b[38;5;241m*\u001b[39margs, \u001b[38;5;241m*\u001b[39m\u001b[38;5;241m*\u001b[39mkwargs)\n",
      "Cell \u001b[1;32mIn[2], line 11\u001b[0m, in \u001b[0;36mMiniTorchModel.forward\u001b[1;34m(self, x)\u001b[0m\n\u001b[0;32m     10\u001b[0m \u001b[38;5;28;01mdef\u001b[39;00m\u001b[38;5;250m \u001b[39m\u001b[38;5;21mforward\u001b[39m(\u001b[38;5;28mself\u001b[39m, x):\n\u001b[1;32m---> 11\u001b[0m     x \u001b[38;5;241m=\u001b[39m \u001b[38;5;28;43mself\u001b[39;49m\u001b[38;5;241;43m.\u001b[39;49m\u001b[43mlayer1\u001b[49m\u001b[43m(\u001b[49m\u001b[43mx\u001b[49m\u001b[43m)\u001b[49m\n\u001b[0;32m     12\u001b[0m     x \u001b[38;5;241m=\u001b[39m \u001b[38;5;28mself\u001b[39m\u001b[38;5;241m.\u001b[39mlayer2(x)\n\u001b[0;32m     13\u001b[0m     \u001b[38;5;28;01mreturn\u001b[39;00m x\n",
      "File \u001b[1;32mc:\\Users\\shard\\Desktop\\mini-torch\\tests\\..\\minitorch\\nn\\modules\\module.py:37\u001b[0m, in \u001b[0;36mModule.__call__\u001b[1;34m(self, *args, **kwargs)\u001b[0m\n\u001b[0;32m     36\u001b[0m \u001b[38;5;28;01mdef\u001b[39;00m\u001b[38;5;250m \u001b[39m\u001b[38;5;21m__call__\u001b[39m(\u001b[38;5;28mself\u001b[39m, \u001b[38;5;241m*\u001b[39margs, \u001b[38;5;241m*\u001b[39m\u001b[38;5;241m*\u001b[39mkwargs):\n\u001b[1;32m---> 37\u001b[0m     \u001b[38;5;28;01mreturn\u001b[39;00m \u001b[38;5;28mself\u001b[39m\u001b[38;5;241m.\u001b[39mforward(\u001b[38;5;241m*\u001b[39margs, \u001b[38;5;241m*\u001b[39m\u001b[38;5;241m*\u001b[39mkwargs)\n",
      "File \u001b[1;32mc:\\Users\\shard\\Desktop\\mini-torch\\tests\\..\\minitorch\\nn\\modules\\linear.py:32\u001b[0m, in \u001b[0;36mLinear.forward\u001b[1;34m(self, x)\u001b[0m\n\u001b[0;32m     30\u001b[0m \u001b[38;5;28;01mif\u001b[39;00m x\u001b[38;5;241m.\u001b[39mdata\u001b[38;5;241m.\u001b[39mshape[\u001b[38;5;241m1\u001b[39m] \u001b[38;5;241m!=\u001b[39m \u001b[38;5;28mself\u001b[39m\u001b[38;5;241m.\u001b[39min_features:\n\u001b[0;32m     31\u001b[0m     \u001b[38;5;28;01mraise\u001b[39;00m \u001b[38;5;167;01mValueError\u001b[39;00m(\u001b[38;5;124mf\u001b[39m\u001b[38;5;124m\"\u001b[39m\u001b[38;5;124mInput shape \u001b[39m\u001b[38;5;132;01m{\u001b[39;00mx\u001b[38;5;241m.\u001b[39mdata\u001b[38;5;241m.\u001b[39mshape\u001b[38;5;132;01m}\u001b[39;00m\u001b[38;5;124m does not match expected shape (\u001b[39m\u001b[38;5;132;01m{\u001b[39;00mx\u001b[38;5;241m.\u001b[39mdata\u001b[38;5;241m.\u001b[39mshape[\u001b[38;5;241m0\u001b[39m]\u001b[38;5;132;01m}\u001b[39;00m\u001b[38;5;124m, \u001b[39m\u001b[38;5;132;01m{\u001b[39;00m\u001b[38;5;28mself\u001b[39m\u001b[38;5;241m.\u001b[39min_features\u001b[38;5;132;01m}\u001b[39;00m\u001b[38;5;124m).\u001b[39m\u001b[38;5;124m\"\u001b[39m)\n\u001b[1;32m---> 32\u001b[0m out \u001b[38;5;241m=\u001b[39m \u001b[43mx\u001b[49m\u001b[43m \u001b[49m\u001b[38;5;241;43m@\u001b[39;49m\u001b[43m \u001b[49m\u001b[38;5;28;43mself\u001b[39;49m\u001b[38;5;241;43m.\u001b[39;49m\u001b[43mweight\u001b[49m\u001b[38;5;241;43m.\u001b[39;49m\u001b[43mT\u001b[49m\n\u001b[0;32m     33\u001b[0m \u001b[38;5;28;01mif\u001b[39;00m \u001b[38;5;28mself\u001b[39m\u001b[38;5;241m.\u001b[39mbias \u001b[38;5;129;01mis\u001b[39;00m \u001b[38;5;129;01mnot\u001b[39;00m \u001b[38;5;28;01mNone\u001b[39;00m:\n\u001b[0;32m     34\u001b[0m     out \u001b[38;5;241m=\u001b[39m out \u001b[38;5;241m+\u001b[39m \u001b[38;5;28mself\u001b[39m\u001b[38;5;241m.\u001b[39mbias\n",
      "File \u001b[1;32mc:\\Users\\shard\\Desktop\\mini-torch\\tests\\..\\minitorch\\engine.py:183\u001b[0m, in \u001b[0;36mTensor.__matmul__\u001b[1;34m(self, other)\u001b[0m\n\u001b[0;32m    180\u001b[0m other \u001b[38;5;241m=\u001b[39m other \u001b[38;5;28;01mif\u001b[39;00m \u001b[38;5;28misinstance\u001b[39m(other, Tensor) \u001b[38;5;28;01melse\u001b[39;00m Tensor(other)\n\u001b[0;32m    182\u001b[0m requires_grad \u001b[38;5;241m=\u001b[39m \u001b[38;5;28mself\u001b[39m\u001b[38;5;241m.\u001b[39mrequires_grad \u001b[38;5;129;01mor\u001b[39;00m other\u001b[38;5;241m.\u001b[39mrequires_grad\n\u001b[1;32m--> 183\u001b[0m out_data \u001b[38;5;241m=\u001b[39m \u001b[43mnp\u001b[49m\u001b[38;5;241;43m.\u001b[39;49m\u001b[43mmatmul\u001b[49m\u001b[43m(\u001b[49m\u001b[38;5;28;43mself\u001b[39;49m\u001b[38;5;241;43m.\u001b[39;49m\u001b[43mdata\u001b[49m\u001b[43m,\u001b[49m\u001b[43m \u001b[49m\u001b[43mother\u001b[49m\u001b[38;5;241;43m.\u001b[39;49m\u001b[43mdata\u001b[49m\u001b[43m)\u001b[49m\n\u001b[0;32m    184\u001b[0m out \u001b[38;5;241m=\u001b[39m Tensor(out_data, children\u001b[38;5;241m=\u001b[39m(\u001b[38;5;28mself\u001b[39m, other), _op\u001b[38;5;241m=\u001b[39m\u001b[38;5;124m'\u001b[39m\u001b[38;5;124m@\u001b[39m\u001b[38;5;124m'\u001b[39m, requires_grad\u001b[38;5;241m=\u001b[39mrequires_grad)\n\u001b[0;32m    186\u001b[0m \u001b[38;5;28;01mdef\u001b[39;00m\u001b[38;5;250m \u001b[39m\u001b[38;5;21m_backward\u001b[39m():\n",
      "\u001b[1;31mValueError\u001b[0m: matmul: Input operand 1 has a mismatch in its core dimension 0, with gufunc signature (n?,k),(k,m?)->(n?,m?) (size 3 is different from 2)"
     ]
    }
   ],
   "source": [
    "import minitorch\n",
    "import minitorch.nn as nn\n",
    "\n",
    "class MiniTorchModel(nn.Module):\n",
    "    def __init__(self, in_feat, out_feat):\n",
    "        super().__init__()\n",
    "        self.layer1 = nn.Linear(in_feat, 3)\n",
    "        self.layer2 = nn.Linear(3, out_feat)\n",
    "\n",
    "    def forward(self, x):\n",
    "        x = self.layer1(x)\n",
    "        x = self.layer2(x)\n",
    "        return x\n",
    "\n",
    "minitorch_model = MiniTorchModel(2, 1)\n",
    "print(minitorch_model)\n",
    "\n",
    "print('-'*50)\n",
    "\n",
    "\n",
    "input_tensor = minitorch.Tensor([[1.0, 1.0]])\n",
    "\n",
    "out_minitorch = minitorch_model(input_tensor)\n",
    "\n",
    "print(\"MiniTorch Model Output:\")\n",
    "print(out_minitorch)\n",
    "\n",
    "print('-' * 50)\n",
    "\n",
    "print(\"MiniTorch Model Parameters:\")\n",
    "for param in minitorch_model.parameters():\n",
    "    print(param)\n",
    "\n",
    "print('-' * 50)"
   ]
  },
  {
   "cell_type": "code",
   "execution_count": 3,
   "id": "66fed030",
   "metadata": {},
   "outputs": [
    {
     "name": "stdout",
     "output_type": "stream",
     "text": [
      "MiniTorchModel(\n",
      "  (layer1): Linear(in_features=2, out_features=3, bias=True),\n",
      "  (layer2): Linear(in_features=3, out_features=1, bias=True),\n",
      ")\n",
      "Parameter containing:\n",
      "tensor([[ 0.5691,  0.2905, -0.1569],\n",
      " [-0.2209, -0.0225, -0.5943]], requires_grad=True)\n",
      "Parameter containing:\n",
      "tensor([-0.1912, -0.5565, -0.005 ], requires_grad=True)\n",
      "Parameter containing:\n",
      "tensor([[-0.3514],\n",
      " [-0.3271],\n",
      " [ 0.3505]], requires_grad=True)\n",
      "Parameter containing:\n",
      "tensor([-0.1642], requires_grad=True)\n"
     ]
    }
   ],
   "source": [
    "from minitorch.nn import Linear, Module\n",
    "from minitorch import Tensor\n",
    "from minitorch.nn.parameter import Parameter\n",
    "\n",
    "class MiniTorchModel(Module):\n",
    "    def __init__(self, in_feat, out_feat):\n",
    "        super().__init__()\n",
    "        self.layer1 = Linear(in_feat, 3)\n",
    "        self.layer2 = Linear(3, out_feat)\n",
    "\n",
    "    def forward(self, x):\n",
    "        x = self.layer1(x)\n",
    "        x = self.layer2(x)\n",
    "        return x\n",
    "\n",
    "minitorch_model = MiniTorchModel(2, 1)\n",
    "print(minitorch_model)\n",
    "\n",
    "print(minitorch_model.layer1.weight)\n",
    "print(minitorch_model.layer1.bias)\n",
    "\n",
    "print(minitorch_model.layer2.weight)\n",
    "print(minitorch_model.layer2.bias)\n"
   ]
  },
  {
   "cell_type": "code",
   "execution_count": 4,
   "id": "40e057f8",
   "metadata": {},
   "outputs": [
    {
     "name": "stdout",
     "output_type": "stream",
     "text": [
      "[Parameter containing:\n",
      "tensor([[ 0.5691,  0.2905, -0.1569],\n",
      " [-0.2209, -0.0225, -0.5943]], requires_grad=True), Parameter containing:\n",
      "tensor([-0.1912, -0.5565, -0.005 ], requires_grad=True), Parameter containing:\n",
      "tensor([[-0.3514],\n",
      " [-0.3271],\n",
      " [ 0.3505]], requires_grad=True), Parameter containing:\n",
      "tensor([-0.1642], requires_grad=True)]\n",
      "--------------------------------------------------\n",
      "<bound method Module.parameters of MiniTorchModel(\n",
      "  (layer1): Linear(in_features=2, out_features=3, bias=True),\n",
      "  (layer2): Linear(in_features=3, out_features=1, bias=True),\n",
      ")>\n",
      "None\n",
      "tensor(0.)\n"
     ]
    }
   ],
   "source": [
    "print(minitorch_model.parameters())\n",
    "\n",
    "print('-' * 50)\n",
    "\n",
    "print(minitorch_model.parameters)\n",
    "print(minitorch_model.zero_grad())\n",
    "\n",
    "print(minitorch_model.layer1.weight.grad)"
   ]
  },
  {
   "cell_type": "code",
   "execution_count": 5,
   "id": "8943b849",
   "metadata": {},
   "outputs": [
    {
     "name": "stdout",
     "output_type": "stream",
     "text": [
      "TorchModel(\n",
      "  (layer1): Linear(in_features=2, out_features=3, bias=True)\n",
      "  (layer2): Linear(in_features=3, out_features=1, bias=True)\n",
      ")\n",
      "--------------------------------------------------\n",
      "Torch Model Output:\n",
      "tensor([[1.0611]], grad_fn=<AddmmBackward0>)\n",
      "--------------------------------------------------\n",
      "Torch Model Parameters:\n",
      "Parameter containing:\n",
      "tensor([[-0.0137, -0.1514],\n",
      "        [ 0.2542,  0.1472],\n",
      "        [ 0.3754, -0.0222]], requires_grad=True)\n",
      "Parameter containing:\n",
      "tensor([-0.6730,  0.6470,  0.0849], requires_grad=True)\n",
      "Parameter containing:\n",
      "tensor([[-0.4224,  0.5471, -0.2996]], requires_grad=True)\n",
      "Parameter containing:\n",
      "tensor([0.2647], requires_grad=True)\n",
      "--------------------------------------------------\n",
      "tensor([[1., 1.]])\n",
      "None\n",
      "False\n",
      "tensor([[1., 1.]], requires_grad=True)\n"
     ]
    }
   ],
   "source": [
    "import torch\n",
    "import torch.nn as nn\n",
    "\n",
    "class TorchModel(nn.Module):\n",
    "    def __init__(self, in_feat, out_feat):\n",
    "        super().__init__()\n",
    "        self.layer1 = nn.Linear(in_feat, 3)\n",
    "        self.layer2 = nn.Linear(3, out_feat)\n",
    "\n",
    "    def forward(self, x):\n",
    "        x = self.layer1(x)\n",
    "        x = self.layer2(x)\n",
    "        return x\n",
    "\n",
    "torch_model = TorchModel(2, 1)\n",
    "out_torch = torch_model(torch.tensor([[1.0] * 2]))\n",
    "\n",
    "\n",
    "print(torch_model)\n",
    "print('-' * 50)\n",
    "\n",
    "\n",
    "print(\"Torch Model Output:\")\n",
    "print(out_torch)\n",
    "\n",
    "print('-'*50)\n",
    "\n",
    "print(\"Torch Model Parameters:\")\n",
    "for param in torch_model.parameters():\n",
    "    print(param)\n",
    "\n",
    "print('-'*50)\n",
    "\n",
    "t = torch.tensor([[1.0] * 2])\n",
    "print(t)\n",
    "print(t.grad)\n",
    "print(t.requires_grad)\n",
    "\n",
    "z = torch.tensor([[1.0] * 2], requires_grad=True)\n",
    "print(z)\n",
    "\n",
    "# p = torch.nn.Parameter(1.0)\n",
    "# print(p)"
   ]
  },
  {
   "cell_type": "code",
   "execution_count": 6,
   "id": "f86b7eb9",
   "metadata": {},
   "outputs": [
    {
     "name": "stdout",
     "output_type": "stream",
     "text": [
      "MiniTorchModel(\n",
      "  (layer1): Linear(in_features=2, out_features=1, bias=True),\n",
      ")\n",
      "Parameter containing:\n",
      "tensor([[-0.5082],\n",
      " [-0.1959]], requires_grad=True)\n",
      "Parameter containing:\n",
      "tensor([0.4008], requires_grad=True)\n"
     ]
    },
    {
     "ename": "ValueError",
     "evalue": "matmul: Input operand 1 has a mismatch in its core dimension 0, with gufunc signature (n?,k),(k,m?)->(n?,m?) (size 1 is different from 2)",
     "output_type": "error",
     "traceback": [
      "\u001b[1;31m---------------------------------------------------------------------------\u001b[0m",
      "\u001b[1;31mValueError\u001b[0m                                Traceback (most recent call last)",
      "Cell \u001b[1;32mIn[6], line 20\u001b[0m\n\u001b[0;32m     17\u001b[0m \u001b[38;5;28mprint\u001b[39m(nn\u001b[38;5;241m.\u001b[39mParameter(minitorch_model\u001b[38;5;241m.\u001b[39mlayer1\u001b[38;5;241m.\u001b[39mbias))\n\u001b[0;32m     19\u001b[0m input_tensor \u001b[38;5;241m=\u001b[39m minitorch\u001b[38;5;241m.\u001b[39mTensor([[\u001b[38;5;241m1.0\u001b[39m, \u001b[38;5;241m1.0\u001b[39m]])\n\u001b[1;32m---> 20\u001b[0m y\u001b[38;5;241m=\u001b[39m\u001b[43mminitorch_model\u001b[49m\u001b[43m(\u001b[49m\u001b[43minput_tensor\u001b[49m\u001b[43m)\u001b[49m\n\u001b[0;32m     22\u001b[0m y\u001b[38;5;241m.\u001b[39mbackward()\n\u001b[0;32m     24\u001b[0m \u001b[38;5;28;01mfrom\u001b[39;00m\u001b[38;5;250m \u001b[39m\u001b[38;5;21;01mminitorch\u001b[39;00m\u001b[38;5;21;01m.\u001b[39;00m\u001b[38;5;21;01mviz\u001b[39;00m\u001b[38;5;250m \u001b[39m\u001b[38;5;28;01mimport\u001b[39;00m draw_dot\n",
      "File \u001b[1;32mc:\\Users\\shard\\Desktop\\mini-torch\\tests\\..\\minitorch\\nn\\modules\\module.py:37\u001b[0m, in \u001b[0;36mModule.__call__\u001b[1;34m(self, *args, **kwargs)\u001b[0m\n\u001b[0;32m     36\u001b[0m \u001b[38;5;28;01mdef\u001b[39;00m\u001b[38;5;250m \u001b[39m\u001b[38;5;21m__call__\u001b[39m(\u001b[38;5;28mself\u001b[39m, \u001b[38;5;241m*\u001b[39margs, \u001b[38;5;241m*\u001b[39m\u001b[38;5;241m*\u001b[39mkwargs):\n\u001b[1;32m---> 37\u001b[0m     \u001b[38;5;28;01mreturn\u001b[39;00m \u001b[38;5;28mself\u001b[39m\u001b[38;5;241m.\u001b[39mforward(\u001b[38;5;241m*\u001b[39margs, \u001b[38;5;241m*\u001b[39m\u001b[38;5;241m*\u001b[39mkwargs)\n",
      "Cell \u001b[1;32mIn[6], line 10\u001b[0m, in \u001b[0;36mMiniTorchModel.forward\u001b[1;34m(self, x)\u001b[0m\n\u001b[0;32m      9\u001b[0m \u001b[38;5;28;01mdef\u001b[39;00m\u001b[38;5;250m \u001b[39m\u001b[38;5;21mforward\u001b[39m(\u001b[38;5;28mself\u001b[39m, x):\n\u001b[1;32m---> 10\u001b[0m     x \u001b[38;5;241m=\u001b[39m \u001b[38;5;28;43mself\u001b[39;49m\u001b[38;5;241;43m.\u001b[39;49m\u001b[43mlayer1\u001b[49m\u001b[43m(\u001b[49m\u001b[43mx\u001b[49m\u001b[43m)\u001b[49m\n\u001b[0;32m     11\u001b[0m     \u001b[38;5;28;01mreturn\u001b[39;00m x\n",
      "File \u001b[1;32mc:\\Users\\shard\\Desktop\\mini-torch\\tests\\..\\minitorch\\nn\\modules\\module.py:37\u001b[0m, in \u001b[0;36mModule.__call__\u001b[1;34m(self, *args, **kwargs)\u001b[0m\n\u001b[0;32m     36\u001b[0m \u001b[38;5;28;01mdef\u001b[39;00m\u001b[38;5;250m \u001b[39m\u001b[38;5;21m__call__\u001b[39m(\u001b[38;5;28mself\u001b[39m, \u001b[38;5;241m*\u001b[39margs, \u001b[38;5;241m*\u001b[39m\u001b[38;5;241m*\u001b[39mkwargs):\n\u001b[1;32m---> 37\u001b[0m     \u001b[38;5;28;01mreturn\u001b[39;00m \u001b[38;5;28mself\u001b[39m\u001b[38;5;241m.\u001b[39mforward(\u001b[38;5;241m*\u001b[39margs, \u001b[38;5;241m*\u001b[39m\u001b[38;5;241m*\u001b[39mkwargs)\n",
      "File \u001b[1;32mc:\\Users\\shard\\Desktop\\mini-torch\\tests\\..\\minitorch\\nn\\modules\\linear.py:32\u001b[0m, in \u001b[0;36mLinear.forward\u001b[1;34m(self, x)\u001b[0m\n\u001b[0;32m     30\u001b[0m \u001b[38;5;28;01mif\u001b[39;00m x\u001b[38;5;241m.\u001b[39mdata\u001b[38;5;241m.\u001b[39mshape[\u001b[38;5;241m1\u001b[39m] \u001b[38;5;241m!=\u001b[39m \u001b[38;5;28mself\u001b[39m\u001b[38;5;241m.\u001b[39min_features:\n\u001b[0;32m     31\u001b[0m     \u001b[38;5;28;01mraise\u001b[39;00m \u001b[38;5;167;01mValueError\u001b[39;00m(\u001b[38;5;124mf\u001b[39m\u001b[38;5;124m\"\u001b[39m\u001b[38;5;124mInput shape \u001b[39m\u001b[38;5;132;01m{\u001b[39;00mx\u001b[38;5;241m.\u001b[39mdata\u001b[38;5;241m.\u001b[39mshape\u001b[38;5;132;01m}\u001b[39;00m\u001b[38;5;124m does not match expected shape (\u001b[39m\u001b[38;5;132;01m{\u001b[39;00mx\u001b[38;5;241m.\u001b[39mdata\u001b[38;5;241m.\u001b[39mshape[\u001b[38;5;241m0\u001b[39m]\u001b[38;5;132;01m}\u001b[39;00m\u001b[38;5;124m, \u001b[39m\u001b[38;5;132;01m{\u001b[39;00m\u001b[38;5;28mself\u001b[39m\u001b[38;5;241m.\u001b[39min_features\u001b[38;5;132;01m}\u001b[39;00m\u001b[38;5;124m).\u001b[39m\u001b[38;5;124m\"\u001b[39m)\n\u001b[1;32m---> 32\u001b[0m out \u001b[38;5;241m=\u001b[39m \u001b[43mx\u001b[49m\u001b[43m \u001b[49m\u001b[38;5;241;43m@\u001b[39;49m\u001b[43m \u001b[49m\u001b[38;5;28;43mself\u001b[39;49m\u001b[38;5;241;43m.\u001b[39;49m\u001b[43mweight\u001b[49m\u001b[38;5;241;43m.\u001b[39;49m\u001b[43mT\u001b[49m\n\u001b[0;32m     33\u001b[0m \u001b[38;5;28;01mif\u001b[39;00m \u001b[38;5;28mself\u001b[39m\u001b[38;5;241m.\u001b[39mbias \u001b[38;5;129;01mis\u001b[39;00m \u001b[38;5;129;01mnot\u001b[39;00m \u001b[38;5;28;01mNone\u001b[39;00m:\n\u001b[0;32m     34\u001b[0m     out \u001b[38;5;241m=\u001b[39m out \u001b[38;5;241m+\u001b[39m \u001b[38;5;28mself\u001b[39m\u001b[38;5;241m.\u001b[39mbias\n",
      "File \u001b[1;32mc:\\Users\\shard\\Desktop\\mini-torch\\tests\\..\\minitorch\\engine.py:183\u001b[0m, in \u001b[0;36mTensor.__matmul__\u001b[1;34m(self, other)\u001b[0m\n\u001b[0;32m    180\u001b[0m other \u001b[38;5;241m=\u001b[39m other \u001b[38;5;28;01mif\u001b[39;00m \u001b[38;5;28misinstance\u001b[39m(other, Tensor) \u001b[38;5;28;01melse\u001b[39;00m Tensor(other)\n\u001b[0;32m    182\u001b[0m requires_grad \u001b[38;5;241m=\u001b[39m \u001b[38;5;28mself\u001b[39m\u001b[38;5;241m.\u001b[39mrequires_grad \u001b[38;5;129;01mor\u001b[39;00m other\u001b[38;5;241m.\u001b[39mrequires_grad\n\u001b[1;32m--> 183\u001b[0m out_data \u001b[38;5;241m=\u001b[39m \u001b[43mnp\u001b[49m\u001b[38;5;241;43m.\u001b[39;49m\u001b[43mmatmul\u001b[49m\u001b[43m(\u001b[49m\u001b[38;5;28;43mself\u001b[39;49m\u001b[38;5;241;43m.\u001b[39;49m\u001b[43mdata\u001b[49m\u001b[43m,\u001b[49m\u001b[43m \u001b[49m\u001b[43mother\u001b[49m\u001b[38;5;241;43m.\u001b[39;49m\u001b[43mdata\u001b[49m\u001b[43m)\u001b[49m\n\u001b[0;32m    184\u001b[0m out \u001b[38;5;241m=\u001b[39m Tensor(out_data, children\u001b[38;5;241m=\u001b[39m(\u001b[38;5;28mself\u001b[39m, other), _op\u001b[38;5;241m=\u001b[39m\u001b[38;5;124m'\u001b[39m\u001b[38;5;124m@\u001b[39m\u001b[38;5;124m'\u001b[39m, requires_grad\u001b[38;5;241m=\u001b[39mrequires_grad)\n\u001b[0;32m    186\u001b[0m \u001b[38;5;28;01mdef\u001b[39;00m\u001b[38;5;250m \u001b[39m\u001b[38;5;21m_backward\u001b[39m():\n",
      "\u001b[1;31mValueError\u001b[0m: matmul: Input operand 1 has a mismatch in its core dimension 0, with gufunc signature (n?,k),(k,m?)->(n?,m?) (size 1 is different from 2)"
     ]
    }
   ],
   "source": [
    "import minitorch\n",
    "import minitorch.nn as nn\n",
    "\n",
    "class MiniTorchModel(nn.Module):\n",
    "    def __init__(self, in_feat, out_feat):\n",
    "        super().__init__()\n",
    "        self.layer1 = nn.Linear(in_feat, out_feat)\n",
    "\n",
    "    def forward(self, x):\n",
    "        x = self.layer1(x)\n",
    "        return x\n",
    "\n",
    "minitorch_model = MiniTorchModel(2, 1)\n",
    "print(minitorch_model)\n",
    "\n",
    "print(nn.Parameter(minitorch_model.layer1.weight))\n",
    "print(nn.Parameter(minitorch_model.layer1.bias))\n",
    "\n",
    "input_tensor = minitorch.Tensor([[1.0, 1.0]])\n",
    "y=minitorch_model(input_tensor)\n",
    "\n",
    "y.backward()\n",
    "\n",
    "from minitorch.viz import draw_dot\n",
    "from IPython.display import display, SVG\n",
    "\n",
    "# Visualize\n",
    "dot = draw_dot(y, format='svg')\n",
    "display(SVG(dot.pipe(format='svg')))\n"
   ]
  },
  {
   "cell_type": "code",
   "execution_count": 7,
   "id": "44b704c4",
   "metadata": {},
   "outputs": [
    {
     "name": "stdout",
     "output_type": "stream",
     "text": [
      "0.999\n"
     ]
    }
   ],
   "source": [
    "from minitorch.nn.parameter import Parameter\n",
    "from minitorch.optim import SGD\n",
    "\n",
    "\n",
    "# Dummy example\n",
    "w = Parameter(1.0)  # Initial value\n",
    "w.grad = 0.1        # gradient\n",
    "\n",
    "opt = SGD([w], lr=0.01)\n",
    "opt.step()\n",
    "print(w.data)  # Should be 1.0 - 0.01 * 0.1 = 0.999\n"
   ]
  },
  {
   "cell_type": "code",
   "execution_count": 8,
   "id": "7970ab97",
   "metadata": {},
   "outputs": [
    {
     "name": "stdout",
     "output_type": "stream",
     "text": [
      "Dataset length: 10\n",
      "Dataset(10)\n",
      "DataLoader length: 4\n",
      "DataLoader(batch_size=3, shuffle=True, dataset_size=10)\n",
      "Batch x: [6, 8, 0]\n",
      "Batch y: [13, 17, 1]\n",
      "Batch x: [5, 9, 4]\n",
      "Batch y: [11, 19, 9]\n",
      "Batch x: [2, 3, 1]\n",
      "Batch y: [5, 7, 3]\n",
      "Batch x: [7]\n",
      "Batch y: [15]\n"
     ]
    }
   ],
   "source": [
    "from minitorch.utils.data import Dataset, DataLoader\n",
    "\n",
    "class MyDataset(Dataset):\n",
    "    def __init__(self, xs, ys):\n",
    "        self.xs = xs\n",
    "        self.ys = ys\n",
    "\n",
    "    def __getitem__(self, idx):\n",
    "        return self.xs[idx], self.ys[idx]\n",
    "\n",
    "    def __len__(self):\n",
    "        return len(self.xs)\n",
    "\n",
    "# Dummy data\n",
    "xs = [i for i in range(10)]\n",
    "ys = [2 * i + 1 for i in range(10)]\n",
    "\n",
    "\n",
    "dataset = MyDataset(xs, ys)\n",
    "print(\"Dataset length:\", len(dataset))\n",
    "print(dataset)\n",
    "\n",
    "loader = DataLoader(dataset, batch_size=3, shuffle=True)\n",
    "print(\"DataLoader length:\", len(loader))\n",
    "print(loader)\n",
    "\n",
    "for xb, yb in loader:\n",
    "    print(\"Batch x:\", list(xb))\n",
    "    print(\"Batch y:\", list(yb))\n"
   ]
  },
  {
   "cell_type": "code",
   "execution_count": 9,
   "id": "510ed403",
   "metadata": {},
   "outputs": [
    {
     "name": "stdout",
     "output_type": "stream",
     "text": [
      "Epoch 1: Loss = 79.7917\n",
      "Epoch 2: Loss = 0.3185\n",
      "Epoch 3: Loss = 0.3379\n",
      "Epoch 4: Loss = 0.2437\n",
      "Epoch 5: Loss = 0.2216\n",
      "Epoch 6: Loss = 0.2180\n",
      "Epoch 7: Loss = 0.1827\n",
      "Epoch 8: Loss = 0.1744\n",
      "Epoch 9: Loss = 0.1226\n",
      "Epoch 10: Loss = 0.1272\n"
     ]
    }
   ],
   "source": [
    "import minitorch\n",
    "from minitorch.nn.parameter import Parameter\n",
    "from minitorch.optim import SGD\n",
    "\n",
    "# Single-variable linear regression: y = wx + b\n",
    "w = Parameter(Tensor([0.0]))\n",
    "b = Parameter(Tensor([0.0]))\n",
    "\n",
    "def predict(x):\n",
    "    return w.data * x + b.data\n",
    "\n",
    "def compute_loss(y_pred, y_true):\n",
    "    return (y_pred - y_true) ** 2\n",
    "\n",
    "optimizer = SGD([w, b], lr=0.01)\n",
    "\n",
    "for epoch in range(10):\n",
    "    total_loss = 0.0\n",
    "    for x_batch, y_batch in loader:\n",
    "        for x, y in zip(x_batch, y_batch):\n",
    "            x = Tensor(x)\n",
    "            y = Tensor(y)\n",
    "            y_pred = predict(x)\n",
    "            loss = compute_loss(y_pred, y)\n",
    "\n",
    "            # Manual \"backward\"\n",
    "            grad_y_pred = 2.0 * (y_pred - y)\n",
    "            w.grad = grad_y_pred * x\n",
    "            b.grad = grad_y_pred * 1.0\n",
    "\n",
    "            optimizer.step()\n",
    "            optimizer.zero_grad()\n",
    "\n",
    "            total_loss += loss.item()\n",
    "    total_loss /= len(loader)\n",
    "\n",
    "    print(f\"Epoch {epoch+1}: Loss = {total_loss.item():.4f}\")\n"
   ]
  },
  {
   "cell_type": "code",
   "execution_count": 10,
   "id": "7d0d5848",
   "metadata": {},
   "outputs": [
    {
     "name": "stdout",
     "output_type": "stream",
     "text": [
      "NN(\n",
      "  (layer1): Linear(in_features=2, out_features=3, bias=True),\n",
      "  (sign): Sigmoid(),\n",
      "  (layer2): Linear(in_features=3, out_features=1, bias=True),\n",
      "  (relu): ReLU(),\n",
      ")\n"
     ]
    }
   ],
   "source": [
    "import minitorch.nn as nn\n",
    "\n",
    "class NN(nn.Module):\n",
    "    def __init__(self, in_feat, out_feat):\n",
    "        super().__init__()\n",
    "        self.layer1 = nn.Linear(in_feat, 3)\n",
    "        self.sign = nn.Sigmoid()\n",
    "        self.layer2 = nn.Linear(3, out_feat)\n",
    "        self.relu = nn.ReLU()\n",
    "\n",
    "    def forward(self, x):\n",
    "        x = self.layer1(x)\n",
    "        x = self.sign(x)\n",
    "        x = self.layer2(x)\n",
    "        x = self.relu(x)\n",
    "        return x\n",
    "    \n",
    "minitorch_model = NN(2, 1)\n",
    "print(minitorch_model)"
   ]
  },
  {
   "cell_type": "code",
   "execution_count": 11,
   "id": "b4af01fe",
   "metadata": {},
   "outputs": [
    {
     "name": "stdout",
     "output_type": "stream",
     "text": [
      "Input data: tensor([[1., 2.],\n",
      " [3., 4.]], requires_grad=True)\n",
      "Target data: tensor([[1.],\n",
      " [2.]], requires_grad=True)\n"
     ]
    },
    {
     "ename": "ValueError",
     "evalue": "matmul: Input operand 1 has a mismatch in its core dimension 0, with gufunc signature (n?,k),(k,m?)->(n?,m?) (size 1 is different from 2)",
     "output_type": "error",
     "traceback": [
      "\u001b[1;31m---------------------------------------------------------------------------\u001b[0m",
      "\u001b[1;31mValueError\u001b[0m                                Traceback (most recent call last)",
      "Cell \u001b[1;32mIn[11], line 24\u001b[0m\n\u001b[0;32m     20\u001b[0m \u001b[38;5;66;03m# Training loop\u001b[39;00m\n\u001b[0;32m     23\u001b[0m \u001b[38;5;28;01mfor\u001b[39;00m epoch \u001b[38;5;129;01min\u001b[39;00m \u001b[38;5;28mrange\u001b[39m(\u001b[38;5;241m10\u001b[39m):\n\u001b[1;32m---> 24\u001b[0m     y_pred \u001b[38;5;241m=\u001b[39m \u001b[43mmodel\u001b[49m\u001b[43m(\u001b[49m\u001b[43mx\u001b[49m\u001b[43m)\u001b[49m\n\u001b[0;32m     26\u001b[0m     loss \u001b[38;5;241m=\u001b[39m criterion(y_pred, y)\n\u001b[0;32m     27\u001b[0m     \u001b[38;5;28mprint\u001b[39m(\u001b[38;5;124mf\u001b[39m\u001b[38;5;124m\"\u001b[39m\u001b[38;5;124mEpoch \u001b[39m\u001b[38;5;132;01m{\u001b[39;00mepoch\u001b[38;5;241m+\u001b[39m\u001b[38;5;241m1\u001b[39m\u001b[38;5;132;01m}\u001b[39;00m\u001b[38;5;124m, Loss: \u001b[39m\u001b[38;5;132;01m{\u001b[39;00mloss\u001b[38;5;241m.\u001b[39mitem()\u001b[38;5;132;01m}\u001b[39;00m\u001b[38;5;124m\"\u001b[39m)\n",
      "File \u001b[1;32mc:\\Users\\shard\\Desktop\\mini-torch\\tests\\..\\minitorch\\nn\\modules\\module.py:37\u001b[0m, in \u001b[0;36mModule.__call__\u001b[1;34m(self, *args, **kwargs)\u001b[0m\n\u001b[0;32m     36\u001b[0m \u001b[38;5;28;01mdef\u001b[39;00m\u001b[38;5;250m \u001b[39m\u001b[38;5;21m__call__\u001b[39m(\u001b[38;5;28mself\u001b[39m, \u001b[38;5;241m*\u001b[39margs, \u001b[38;5;241m*\u001b[39m\u001b[38;5;241m*\u001b[39mkwargs):\n\u001b[1;32m---> 37\u001b[0m     \u001b[38;5;28;01mreturn\u001b[39;00m \u001b[38;5;28mself\u001b[39m\u001b[38;5;241m.\u001b[39mforward(\u001b[38;5;241m*\u001b[39margs, \u001b[38;5;241m*\u001b[39m\u001b[38;5;241m*\u001b[39mkwargs)\n",
      "File \u001b[1;32mc:\\Users\\shard\\Desktop\\mini-torch\\tests\\..\\minitorch\\nn\\modules\\linear.py:32\u001b[0m, in \u001b[0;36mLinear.forward\u001b[1;34m(self, x)\u001b[0m\n\u001b[0;32m     30\u001b[0m \u001b[38;5;28;01mif\u001b[39;00m x\u001b[38;5;241m.\u001b[39mdata\u001b[38;5;241m.\u001b[39mshape[\u001b[38;5;241m1\u001b[39m] \u001b[38;5;241m!=\u001b[39m \u001b[38;5;28mself\u001b[39m\u001b[38;5;241m.\u001b[39min_features:\n\u001b[0;32m     31\u001b[0m     \u001b[38;5;28;01mraise\u001b[39;00m \u001b[38;5;167;01mValueError\u001b[39;00m(\u001b[38;5;124mf\u001b[39m\u001b[38;5;124m\"\u001b[39m\u001b[38;5;124mInput shape \u001b[39m\u001b[38;5;132;01m{\u001b[39;00mx\u001b[38;5;241m.\u001b[39mdata\u001b[38;5;241m.\u001b[39mshape\u001b[38;5;132;01m}\u001b[39;00m\u001b[38;5;124m does not match expected shape (\u001b[39m\u001b[38;5;132;01m{\u001b[39;00mx\u001b[38;5;241m.\u001b[39mdata\u001b[38;5;241m.\u001b[39mshape[\u001b[38;5;241m0\u001b[39m]\u001b[38;5;132;01m}\u001b[39;00m\u001b[38;5;124m, \u001b[39m\u001b[38;5;132;01m{\u001b[39;00m\u001b[38;5;28mself\u001b[39m\u001b[38;5;241m.\u001b[39min_features\u001b[38;5;132;01m}\u001b[39;00m\u001b[38;5;124m).\u001b[39m\u001b[38;5;124m\"\u001b[39m)\n\u001b[1;32m---> 32\u001b[0m out \u001b[38;5;241m=\u001b[39m \u001b[43mx\u001b[49m\u001b[43m \u001b[49m\u001b[38;5;241;43m@\u001b[39;49m\u001b[43m \u001b[49m\u001b[38;5;28;43mself\u001b[39;49m\u001b[38;5;241;43m.\u001b[39;49m\u001b[43mweight\u001b[49m\u001b[38;5;241;43m.\u001b[39;49m\u001b[43mT\u001b[49m\n\u001b[0;32m     33\u001b[0m \u001b[38;5;28;01mif\u001b[39;00m \u001b[38;5;28mself\u001b[39m\u001b[38;5;241m.\u001b[39mbias \u001b[38;5;129;01mis\u001b[39;00m \u001b[38;5;129;01mnot\u001b[39;00m \u001b[38;5;28;01mNone\u001b[39;00m:\n\u001b[0;32m     34\u001b[0m     out \u001b[38;5;241m=\u001b[39m out \u001b[38;5;241m+\u001b[39m \u001b[38;5;28mself\u001b[39m\u001b[38;5;241m.\u001b[39mbias\n",
      "File \u001b[1;32mc:\\Users\\shard\\Desktop\\mini-torch\\tests\\..\\minitorch\\engine.py:183\u001b[0m, in \u001b[0;36mTensor.__matmul__\u001b[1;34m(self, other)\u001b[0m\n\u001b[0;32m    180\u001b[0m other \u001b[38;5;241m=\u001b[39m other \u001b[38;5;28;01mif\u001b[39;00m \u001b[38;5;28misinstance\u001b[39m(other, Tensor) \u001b[38;5;28;01melse\u001b[39;00m Tensor(other)\n\u001b[0;32m    182\u001b[0m requires_grad \u001b[38;5;241m=\u001b[39m \u001b[38;5;28mself\u001b[39m\u001b[38;5;241m.\u001b[39mrequires_grad \u001b[38;5;129;01mor\u001b[39;00m other\u001b[38;5;241m.\u001b[39mrequires_grad\n\u001b[1;32m--> 183\u001b[0m out_data \u001b[38;5;241m=\u001b[39m \u001b[43mnp\u001b[49m\u001b[38;5;241;43m.\u001b[39;49m\u001b[43mmatmul\u001b[49m\u001b[43m(\u001b[49m\u001b[38;5;28;43mself\u001b[39;49m\u001b[38;5;241;43m.\u001b[39;49m\u001b[43mdata\u001b[49m\u001b[43m,\u001b[49m\u001b[43m \u001b[49m\u001b[43mother\u001b[49m\u001b[38;5;241;43m.\u001b[39;49m\u001b[43mdata\u001b[49m\u001b[43m)\u001b[49m\n\u001b[0;32m    184\u001b[0m out \u001b[38;5;241m=\u001b[39m Tensor(out_data, children\u001b[38;5;241m=\u001b[39m(\u001b[38;5;28mself\u001b[39m, other), _op\u001b[38;5;241m=\u001b[39m\u001b[38;5;124m'\u001b[39m\u001b[38;5;124m@\u001b[39m\u001b[38;5;124m'\u001b[39m, requires_grad\u001b[38;5;241m=\u001b[39mrequires_grad)\n\u001b[0;32m    186\u001b[0m \u001b[38;5;28;01mdef\u001b[39;00m\u001b[38;5;250m \u001b[39m\u001b[38;5;21m_backward\u001b[39m():\n",
      "\u001b[1;31mValueError\u001b[0m: matmul: Input operand 1 has a mismatch in its core dimension 0, with gufunc signature (n?,k),(k,m?)->(n?,m?) (size 1 is different from 2)"
     ]
    }
   ],
   "source": [
    "import minitorch\n",
    "from minitorch import nn\n",
    "from minitorch.optim import Adam\n",
    "from minitorch import Tensor\n",
    "\n",
    "import numpy as np\n",
    "np.random.seed(42)\n",
    "\n",
    "\n",
    "# Simple model\n",
    "model = nn.Linear(2, 1)\n",
    "criterion = nn.MSELoss()\n",
    "optimizer = Adam(model.parameters(), lr=0.01)\n",
    "\n",
    "# Dummy data\n",
    "x = Tensor([[1.0, 2.0], [3.0, 4.0]])\n",
    "y = Tensor([[1.0], [2.0]])\n",
    "print(\"Input data:\", x)\n",
    "print(\"Target data:\", y)\n",
    "# Training loop\n",
    "\n",
    "\n",
    "for epoch in range(10):\n",
    "    y_pred = model(x)\n",
    "    \n",
    "    loss = criterion(y_pred, y)\n",
    "    print(f\"Epoch {epoch+1}, Loss: {loss.item()}\")\n",
    "    optimizer.zero_grad()\n",
    "    loss.backward()\n",
    "    optimizer.step()\n",
    "print(\"Final model parameters:\")\n",
    "for param in model.parameters():\n",
    "    print(param.data)\n",
    "\n",
    "print(\"Final model output:\")\n",
    "print(model(x))\n"
   ]
  },
  {
   "cell_type": "code",
   "execution_count": null,
   "id": "0a3b5573",
   "metadata": {},
   "outputs": [],
   "source": [
    "import torch\n",
    "import torch.nn as nn\n",
    "import torch.optim as optim\n",
    "\n",
    "import numpy as np\n",
    "np.random.seed(42)\n",
    "\n",
    "import torch\n",
    "torch.manual_seed(42)\n",
    "\n",
    "# Simple model\n",
    "model = nn.Linear(2, 1)\n",
    "criterion = nn.MSELoss()\n",
    "optimizer = optim.Adam(model.parameters(), lr=0.01)\n",
    "\n",
    "# Dummy data (same as minitorch)\n",
    "x = torch.tensor([[1.0, 2.0], [3.0, 4.0]])\n",
    "y = torch.tensor([[1.0], [2.0]])\n",
    "\n",
    "# Training loop\n",
    "for epoch in range(10):\n",
    "    y_pred = model(x)\n",
    "    loss = criterion(y_pred, y)\n",
    "    print(f\"Epoch {epoch+1}, Loss: {loss.item():.4f}\")\n",
    "    \n",
    "    optimizer.zero_grad()\n",
    "    loss.backward()\n",
    "    optimizer.step()\n",
    "\n",
    "# Print final model parameters\n",
    "print(\"Final model parameters:\")\n",
    "for param in model.parameters():\n",
    "    print(param.data)\n",
    "\n",
    "# Final model output\n",
    "print(\"Final model output:\")\n",
    "print(model(x))"
   ]
  }
 ],
 "metadata": {
  "kernelspec": {
   "display_name": ".venv",
   "language": "python",
   "name": "python3"
  },
  "language_info": {
   "codemirror_mode": {
    "name": "ipython",
    "version": 3
   },
   "file_extension": ".py",
   "mimetype": "text/x-python",
   "name": "python",
   "nbconvert_exporter": "python",
   "pygments_lexer": "ipython3",
   "version": "3.10.16"
  }
 },
 "nbformat": 4,
 "nbformat_minor": 5
}
