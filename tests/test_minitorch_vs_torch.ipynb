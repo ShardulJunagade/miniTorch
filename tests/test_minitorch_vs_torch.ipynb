{
 "cells": [
  {
   "cell_type": "code",
   "execution_count": 1,
   "id": "9ddd0413",
   "metadata": {},
   "outputs": [],
   "source": [
    "import sys\n",
    "sys.path.append('../')"
   ]
  },
  {
   "cell_type": "code",
   "execution_count": 2,
   "id": "b6026cfd",
   "metadata": {},
   "outputs": [],
   "source": [
    "import minitorch\n",
    "import torch"
   ]
  },
  {
   "cell_type": "code",
   "execution_count": 3,
   "id": "ccee1b7e",
   "metadata": {},
   "outputs": [
    {
     "name": "stdout",
     "output_type": "stream",
     "text": [
      "tensor([[0.1667, 0.0625],\n",
      " [0.0333, 0.0208]], requires_grad=True)\n",
      "tensor([[0.1667, 0.0625],\n",
      "        [0.0333, 0.0208]], grad_fn=<PowBackward0>)\n"
     ]
    }
   ],
   "source": [
    "a = minitorch.Tensor([[1.0, 2.0], [3.0, 4.0]])\n",
    "b = minitorch.Tensor([[5.0, 6.0], [7.0, 8.0]])\n",
    "c = a + b\n",
    "d = c * a\n",
    "e = d ** -1\n",
    "print(e)\n",
    "\n",
    "t_a = torch.tensor([[1.0, 2.0], [3.0, 4.0]], requires_grad=True)\n",
    "t_b = torch.tensor([[5.0, 6.0], [7.0, 8.0]], requires_grad=True)\n",
    "t_c = t_a + t_b\n",
    "t_c.retain_grad()\n",
    "t_d = t_c * t_a\n",
    "t_d.retain_grad()\n",
    "t_e = t_d ** -1\n",
    "print(t_e)"
   ]
  },
  {
   "cell_type": "code",
   "execution_count": 4,
   "id": "9c2a4109",
   "metadata": {},
   "outputs": [
    {
     "name": "stdout",
     "output_type": "stream",
     "text": [
      "[[-0.19444445 -0.0390625 ]\n",
      " [-0.01444444 -0.00694444]]\n",
      "[[-0.02777778 -0.0078125 ]\n",
      " [-0.00333333 -0.00173611]]\n",
      "[[-0.02777778 -0.0078125 ]\n",
      " [-0.00333333 -0.00173611]]\n",
      "[[-0.02777778 -0.00390625]\n",
      " [-0.00111111 -0.00043403]]\n"
     ]
    }
   ],
   "source": [
    "e.backward()\n",
    "print(a.grad)\n",
    "print(b.grad)\n",
    "print(c.grad)\n",
    "print(d.grad)"
   ]
  },
  {
   "cell_type": "code",
   "execution_count": 5,
   "id": "7514b829",
   "metadata": {},
   "outputs": [
    {
     "name": "stdout",
     "output_type": "stream",
     "text": [
      "tensor([[-0.1944, -0.0391],\n",
      "        [-0.0144, -0.0069]])\n",
      "tensor([[-0.0278, -0.0078],\n",
      "        [-0.0033, -0.0017]])\n",
      "tensor([[-0.0278, -0.0078],\n",
      "        [-0.0033, -0.0017]])\n",
      "tensor([[-0.0278, -0.0039],\n",
      "        [-0.0011, -0.0004]])\n"
     ]
    }
   ],
   "source": [
    "t_e.backward(gradient=torch.ones_like(t_e.data, dtype=float))\n",
    "print(t_a.grad)\n",
    "print(t_b.grad)\n",
    "print(t_c.grad)\n",
    "print(t_d.grad)"
   ]
  },
  {
   "cell_type": "code",
   "execution_count": null,
   "id": "575662ac",
   "metadata": {},
   "outputs": [],
   "source": []
  }
 ],
 "metadata": {
  "kernelspec": {
   "display_name": ".venv",
   "language": "python",
   "name": "python3"
  },
  "language_info": {
   "codemirror_mode": {
    "name": "ipython",
    "version": 3
   },
   "file_extension": ".py",
   "mimetype": "text/x-python",
   "name": "python",
   "nbconvert_exporter": "python",
   "pygments_lexer": "ipython3",
   "version": "3.10.16"
  }
 },
 "nbformat": 4,
 "nbformat_minor": 5
}
