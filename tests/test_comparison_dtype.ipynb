{
 "cells": [
  {
   "cell_type": "code",
   "execution_count": 1,
   "id": "5d325256",
   "metadata": {},
   "outputs": [],
   "source": [
    "import sys\n",
    "sys.path.append('../')"
   ]
  },
  {
   "cell_type": "code",
   "execution_count": 2,
   "id": "69b6a57e",
   "metadata": {},
   "outputs": [
    {
     "name": "stdout",
     "output_type": "stream",
     "text": [
      "tensor([False, False,  True])\n",
      "tensor([ True, False, False])\n",
      "tensor([False,  True, False])\n",
      "tensor([ True, False,  True])\n"
     ]
    }
   ],
   "source": [
    "import minitorch\n",
    "\n",
    "# check comparison functions of minitorch\n",
    "x = minitorch.Tensor([1.0, 2.0, 3.0])\n",
    "y = minitorch.Tensor([2.0, 2.0, 1.0])\n",
    "\n",
    "# Test greater than\n",
    "gt_result = x > y\n",
    "print(gt_result)\n",
    "\n",
    "# Test less than\n",
    "lt_result = x < y\n",
    "print(lt_result)\n",
    "\n",
    "# Test equal to\n",
    "eq_result = x == y\n",
    "print(eq_result)\n",
    "\n",
    "# Test not equal to\n",
    "ne_result = x != y\n",
    "print(ne_result)"
   ]
  },
  {
   "cell_type": "code",
   "execution_count": 3,
   "id": "1bda14ae",
   "metadata": {},
   "outputs": [
    {
     "data": {
      "text/plain": [
       "numpy.bool"
      ]
     },
     "execution_count": 3,
     "metadata": {},
     "output_type": "execute_result"
    }
   ],
   "source": [
    "gt_result.dtype"
   ]
  },
  {
   "cell_type": "code",
   "execution_count": 4,
   "id": "6b0f1e45",
   "metadata": {},
   "outputs": [
    {
     "name": "stdout",
     "output_type": "stream",
     "text": [
      "<class 'numpy.bool'>\n"
     ]
    }
   ],
   "source": [
    "print(gt_result.dtype)"
   ]
  },
  {
   "cell_type": "code",
   "execution_count": 5,
   "id": "f0133280",
   "metadata": {},
   "outputs": [
    {
     "name": "stdout",
     "output_type": "stream",
     "text": [
      "tensor([False, False,  True])\n",
      "tensor([ True, False, False])\n",
      "tensor([False,  True, False])\n",
      "tensor([ True, False,  True])\n"
     ]
    }
   ],
   "source": [
    "# torch boolean array\n",
    "import torch\n",
    "torch_x = torch.tensor([1.0, 2.0, 3.0])\n",
    "torch_y = torch.tensor([2.0, 2.0, 1.0])\n",
    "# Test greater than with torch\n",
    "torch_gt_result = torch_x > torch_y\n",
    "print(torch_gt_result)\n",
    "# Test less than with torch\n",
    "torch_lt_result = torch_x < torch_y\n",
    "print(torch_lt_result)\n",
    "# Test equal to with torch\n",
    "torch_eq_result = torch_x == torch_y\n",
    "print(torch_eq_result)\n",
    "# Test not equal to with torch\n",
    "torch_ne_result = torch_x != torch_y\n",
    "print(torch_ne_result)"
   ]
  },
  {
   "cell_type": "code",
   "execution_count": 6,
   "id": "4762cd64",
   "metadata": {},
   "outputs": [
    {
     "data": {
      "text/plain": [
       "torch.bool"
      ]
     },
     "execution_count": 6,
     "metadata": {},
     "output_type": "execute_result"
    }
   ],
   "source": [
    "torch_gt_result.dtype"
   ]
  },
  {
   "cell_type": "code",
   "execution_count": 7,
   "id": "0214ce18",
   "metadata": {},
   "outputs": [
    {
     "name": "stdout",
     "output_type": "stream",
     "text": [
      "torch.bool\n"
     ]
    }
   ],
   "source": [
    "print(torch_gt_result.dtype)"
   ]
  }
 ],
 "metadata": {
  "kernelspec": {
   "display_name": ".venv",
   "language": "python",
   "name": "python3"
  },
  "language_info": {
   "codemirror_mode": {
    "name": "ipython",
    "version": 3
   },
   "file_extension": ".py",
   "mimetype": "text/x-python",
   "name": "python",
   "nbconvert_exporter": "python",
   "pygments_lexer": "ipython3",
   "version": "3.10.16"
  }
 },
 "nbformat": 4,
 "nbformat_minor": 5
}
